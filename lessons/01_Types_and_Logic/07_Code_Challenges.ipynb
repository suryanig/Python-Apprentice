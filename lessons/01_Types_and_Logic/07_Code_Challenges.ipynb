{
 "cells": [
  {
   "attachments": {},
   "cell_type": "markdown",
   "metadata": {
    "editable": true,
    "slideshow": {
     "slide_type": ""
    },
    "tags": []
   },
   "source": [
    "# Code Challenges\n",
    "\n",
    "Code challenge apps are a great way to continue to improve your skills. But\n",
    "first ... go check in your code. You can review how to check in your code, and\n",
    "how to restart your Codespace, in our \n",
    "[Code Check In Howto Guide.](https://curriculum.jointheleague.org/howto/checkin_restart.html)\n",
    "\n",
    "\n",
    "## Hacker Rank\n",
    "\n",
    "[Hacker Rank](https://www.hackerrank.com/) is a website that provides a series\n",
    "of programming challenges. The challenges are organized by skills and difficulty\n",
    "level. The website provides a platform for users to practice their programming\n",
    "skills and to compete with others. Hacker Rank also provides a series of\n",
    "tutorials and practice problems to help users improve their programming skills.\n",
    "\n",
    "In the \"Hacker Rank\" notebooks like this, we will give you challenges from\n",
    "Hacker rank. Each section will have one challenge, with a link to the Hacker\n",
    "Rank challenge. TO use that link, you will have to create a Hacker Rank Account.\n",
    "If you do, you will be able to keep track of your process with the challenges. \n",
    "\n",
    "*Important* When you create your Hacker Rank account *use your Github account*.\n",
    "When you got to the sign up page, look for a button like this: \n",
    "\n",
    "<img src=\"https://images.jointheleague.org/misc/hr_use_github.png\" width='400px'>\n",
    "\n",
    "Using Github will make it easier to signup and login later. \n",
    "\n",
    "## Code Wars\n",
    "\n",
    "Another practice site we really like is [Code Wars](https://www.codewars.com/).\n",
    "Where Hacker Rank is fariyl professional looking, Code Wars is more like  Rocket\n",
    "League for coding. \n",
    "\n",
    "When you sign up for Code Wars, also be sure to sign up with Github. "
   ]
  },
  {
   "cell_type": "markdown",
   "metadata": {},
   "source": []
  },
  {
   "cell_type": "markdown",
   "metadata": {},
   "source": [
    "# Challenges\n",
    "\n",
    "## If Else\n",
    "\n",
    "[Solve this Challenge on Hacker Rank](https://www.hackerrank.com/challenges/py-if-else/problem?isFullScreen=true)\n",
    "\n",
    "\n",
    "Given an integer $n$, perform the following conditional actions:\n",
    "\n",
    "- if $n$ is odd, print `weird`\n",
    "- if $n$ is even and in the inclusive range of 2 to 5, print `not weird`\n",
    "- if $n$ is even and in the inclusive range of 6 to 20, print `weird`\n",
    "- if $n$ is even and greater than 20, print `not weird`\n",
    "\n",
    "Or solve the problem here:"
   ]
  },
  {
   "cell_type": "code",
   "execution_count": 1,
   "metadata": {},
   "outputs": [
    {
     "name": "stdout",
     "output_type": "stream",
     "text": [
      "weird\n",
      "weird\n",
      "weird\n",
      "weird\n",
      "weird\n",
      "weird\n",
      "weird\n",
      "weird\n"
     ]
    }
   ],
   "source": [
    "# Your solution her\n",
    "\n",
    "for n in [3, 5, 7, 11, 13, 17, 19, 23]:\n",
    "    if n%2 == 1:\n",
    "        print(\"weird\")\n",
    "    elif n%2 == 0 and n >= 2 and n<= 5:\n",
    "        print(\"not weird\")\n",
    "    elif n%2 == 0 and n >= 6 and n <= 20:\n",
    "        print(\"weird\")\n",
    "    else:\n",
    "        print(\"not weird\")\n",
    "    ..."
   ]
  },
  {
   "cell_type": "markdown",
   "metadata": {},
   "source": [
    "# Hello Johnny\n",
    "\n",
    "[Solve this Challenge on Code Wars](https://www.codewars.com/kata/55225023e1be1ec8bc000390/train/python)\n",
    "\n",
    "Jenny has written a function that returns a greeting for a user. However, she's\n",
    "in love with Johnny, and would like to greet him slightly different. She added a\n",
    "special case to her function, but she made a mistake.\n",
    "\n",
    "Can you help her?"
   ]
  },
  {
   "cell_type": "markdown",
   "metadata": {},
   "source": []
  }
 ],
 "metadata": {
  "kernelspec": {
   "display_name": "Python 3 (ipykernel)",
   "language": "python",
   "name": "python3"
  },
  "language_info": {
   "codemirror_mode": {
    "name": "ipython",
    "version": 3
   },
   "file_extension": ".py",
   "mimetype": "text/x-python",
   "name": "python",
   "nbconvert_exporter": "python",
   "pygments_lexer": "ipython3",
   "version": "3.12.4"
  }
 },
 "nbformat": 4,
 "nbformat_minor": 4
}
