{
 "cells": [
  {
   "cell_type": "code",
   "execution_count": 18,
   "metadata": {},
   "outputs": [
    {
     "ename": "AttributeError",
     "evalue": "'Turtle' object has no attribute 'exitonclick'",
     "output_type": "error",
     "traceback": [
      "\u001b[0;31m---------------------------------------------------------------------------\u001b[0m",
      "\u001b[0;31mAttributeError\u001b[0m                            Traceback (most recent call last)",
      "Cell \u001b[0;32mIn[18], line 31\u001b[0m\n\u001b[1;32m     27\u001b[0m     t\u001b[38;5;241m.\u001b[39mleft( angle )\n\u001b[1;32m     30\u001b[0m \u001b[38;5;66;03m# Don't forget the special way to end a turtle program. \u001b[39;00m\n\u001b[0;32m---> 31\u001b[0m \u001b[43mt\u001b[49m\u001b[38;5;241;43m.\u001b[39;49m\u001b[43mexitonclick\u001b[49m()  \n",
      "\u001b[0;31mAttributeError\u001b[0m: 'Turtle' object has no attribute 'exitonclick'"
     ]
    }
   ],
   "source": [
    "\"\"\"\n",
    "Programmable turtle graphics\n",
    "\n",
    "Use what you've learned about lists, loop, cycle, slice and zip to draw a pattern\n",
    "\n",
    "\"\"\"\n",
    "import turtle  \n",
    "t = turtle.Turtle() # Create a turtle like in previous programs, like 04_Crazy_Tina.py\n",
    "\n",
    "colors = ['red', 'orange', 'yellow', 'green', 'blue', 'purple', 'pink'] # Make a list of colors\n",
    "\n",
    "directions = [ # Create a list of directions and angles\n",
    "    (45,100),\n",
    "    (90,230), \n",
    "    (0,10),\n",
    "    (-270,160),\n",
    "    (30,50),\n",
    "    (30,430)\n",
    "]\n",
    "\n",
    "# Zip the colors and directions together, then unpack them. THere is a good example of this\n",
    "# in 10_More_iterables.ipynb in the discussion of zip()\n",
    "\n",
    "for color, (angle, distance) in zip(colors , directions):\n",
    "    t.color( color )\n",
    "    t.forward( distance )\n",
    "    t.left( angle )\n",
    "\n",
    "\n",
    "# Don't forget the special way to end a turtle program. \n",
    "t.exitonclick()  "
   ]
  }
 ],
 "metadata": {
  "kernelspec": {
   "display_name": "Python 3 (ipykernel)",
   "language": "python",
   "name": "python3"
  },
  "language_info": {
   "codemirror_mode": {
    "name": "ipython",
    "version": 3
   },
   "file_extension": ".py",
   "mimetype": "text/x-python",
   "name": "python",
   "nbconvert_exporter": "python",
   "pygments_lexer": "ipython3",
   "version": "3.12.4"
  }
 },
 "nbformat": 4,
 "nbformat_minor": 2
}
