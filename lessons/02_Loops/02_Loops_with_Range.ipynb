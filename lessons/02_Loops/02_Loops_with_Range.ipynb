{
 "cells": [
  {
   "cell_type": "markdown",
   "metadata": {},
   "source": [
    "# The Range Object\n",
    "\n",
    "We've used `range()` a lot so far, so let's finally learn all of the details about it. \n",
    "\n",
    "As we've seen, `range()` is a way of creating a series of numbers:\n",
    "\n",
    "```python\n",
    "\n",
    "for i in range(10):\n",
    "    print(i)\n",
    "\n",
    "```\n",
    "\n",
    "But, `range()` doesn't actually *have* the number inside of it. It just creates them. For instance, \n",
    "see what happens if we print it, or ask for its type:"
   ]
  },
  {
   "cell_type": "code",
   "execution_count": 1,
   "metadata": {},
   "outputs": [
    {
     "name": "stdout",
     "output_type": "stream",
     "text": [
      "<class 'range'>\n",
      "range(0, 10)\n"
     ]
    }
   ],
   "source": [
    "# Run Me!\n",
    "\n",
    "a = range(10)\n",
    "\n",
    "print(type(a))\n",
    "print(a)\n"
   ]
  },
  {
   "cell_type": "markdown",
   "metadata": {},
   "source": [
    "Range doesn't store numbers because if you had a really big range, like `range(1_000_000_000_000)` you'd run out of memory. \n",
    "\n",
    "However, there is a way to get the numbers inside of it: convert it to a list: "
   ]
  },
  {
   "cell_type": "code",
   "execution_count": 2,
   "metadata": {},
   "outputs": [
    {
     "name": "stdout",
     "output_type": "stream",
     "text": [
      "[0, 1, 2, 3, 4, 5, 6, 7, 8, 9]\n"
     ]
    }
   ],
   "source": [
    "print(list(range(10)))"
   ]
  },
  {
   "cell_type": "markdown",
   "metadata": {},
   "source": [
    "We will explain more about `list()` later, for now we will just use it to find out what numbers `range()` is producing. \n",
    "\n",
    "The `range()` actually can have one, two or three arguments. Here are the options: \n",
    "\n",
    "* `range(end)`: producea numbers from 0 to `end`\n",
    "* `range(start, end)`: produce numbers from `start` to `end`\n",
    "* `range(start, end, skip)`: produce numbers from `start` to `end`, skipping by `skip`\n",
    "\n",
    "So, here is how we can create odd numbers from 101 to 120:"
   ]
  },
  {
   "cell_type": "code",
   "execution_count": 3,
   "metadata": {},
   "outputs": [
    {
     "data": {
      "text/plain": [
       "[101, 103, 105, 107, 109, 111, 113, 115, 117, 119]"
      ]
     },
     "execution_count": 3,
     "metadata": {},
     "output_type": "execute_result"
    }
   ],
   "source": [
    "list(range(101, 120, 2))"
   ]
  },
  {
   "cell_type": "markdown",
   "metadata": {},
   "source": [
    "What `range(101, 120, 2)` means is \"Start at 101 and skip numbers by 2 until 120`\n",
    "\n",
    "Notice that ``range()`` does not include the number you put at the end; it stops one before it. There is a good reason for this, but we'll have to explain later. \n",
    "\n",
    "## Test Yourself\n",
    "\n",
    "Print out all of the odd years between the year you were born and today. "
   ]
  },
  {
   "cell_type": "code",
   "execution_count": 8,
   "metadata": {},
   "outputs": [
    {
     "data": {
      "text/plain": [
       "[2011, 2013, 2015, 2017, 2019, 2021, 2023]"
      ]
     },
     "execution_count": 8,
     "metadata": {},
     "output_type": "execute_result"
    }
   ],
   "source": [
    "# Test yourself\n",
    "list(range(2011,2024,2))"
   ]
  },
  {
   "cell_type": "markdown",
   "metadata": {},
   "source": [
    "## Badgers!\n",
    "\n",
    "[These Badgers](https://youtu.be/pzagBTcYsYQ?si=xr4QQ7ZkZBGow2j1) really like a program called Fizz Buzz, but they want their own version\n",
    "\n",
    "THe normal rules for FizzBuzz are: \n",
    "\n",
    "    Write a function to list the integers from 1 to 30, but for every multiple of\n",
    "    3, write “Fizz”, and for every multiple of 5, write “Buzz”. For numbers which\n",
    "    are multiples of both 3 and 5, it should write “FizzBuzz”; for every other\n",
    "    number, it should print the number unchanged.\n",
    "\n",
    "Instead, here are the Badger rules: \n",
    "\n",
    "For the numbers from 1 to 30:\n",
    "\n",
    "* If the number is evenly divisible by 5, print '🦡 badger'\n",
    "* If the number is evenly divisible by 3, print '🍄 mushroom'\n",
    "* If the number is evenly divisible by both 3 and 5, print '🐍 snake!'\n",
    "* If it is divisible by neither, print the number.\n",
    "\n",
    "Bonus: write the program without using the ``or`` operator."
   ]
  },
  {
   "cell_type": "code",
   "execution_count": 10,
   "metadata": {},
   "outputs": [
    {
     "name": "stdout",
     "output_type": "stream",
     "text": [
      "1\n",
      "2\n",
      "mushroom\n",
      "4\n",
      "badger\n",
      "mushroom\n",
      "7\n",
      "8\n",
      "mushroom\n",
      "badger\n",
      "11\n",
      "mushroom\n",
      "13\n",
      "14\n",
      "snake\n",
      "16\n",
      "17\n",
      "mushroom\n",
      "19\n",
      "badger\n",
      "mushroom\n",
      "22\n",
      "23\n",
      "mushroom\n",
      "badger\n",
      "26\n",
      "mushroom\n",
      "28\n",
      "29\n",
      "snake\n"
     ]
    }
   ],
   "source": [
    "# Badgers!\n",
    "\n",
    "for i in range(1, 31):\n",
    "    if i%5==0 and i%3==0:\n",
    "        print('snake')\n",
    "    elif i%5==0:\n",
    "        print('badger')\n",
    "    elif i%3==0:\n",
    "        print('mushroom')\n",
    "    else:\n",
    "        print(i)\n",
    "    ...\n",
    " "
   ]
  },
  {
   "cell_type": "code",
   "execution_count": null,
   "metadata": {},
   "outputs": [],
   "source": []
  }
 ],
 "metadata": {
  "kernelspec": {
   "display_name": "Python 3 (ipykernel)",
   "language": "python",
   "name": "python3"
  },
  "language_info": {
   "codemirror_mode": {
    "name": "ipython",
    "version": 3
   },
   "file_extension": ".py",
   "mimetype": "text/x-python",
   "name": "python",
   "nbconvert_exporter": "python",
   "pygments_lexer": "ipython3",
   "version": "3.12.4"
  }
 },
 "nbformat": 4,
 "nbformat_minor": 2
}
